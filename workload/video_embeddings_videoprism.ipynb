{
 "cells": [
  {
   "cell_type": "code",
   "execution_count": null,
   "id": "2e51f7fc",
   "metadata": {},
   "outputs": [],
   "source": [
    "import daft\n",
    "from daft import col, DataType as dt\n",
    "import numpy as np\n",
    "import jax\n",
    "import jax.numpy as jnp\n",
    "from jax.extend import backend\n",
    "import tensorflow as tf\n",
    "from videoprism import models as vp\n",
    "\n",
    "tf.config.set_visible_devices([], \"GPU\")\n",
    "tf.config.set_visible_devices([], \"TPU\")"
   ]
  },
  {
   "cell_type": "code",
   "execution_count": null,
   "id": "5a2b10eb",
   "metadata": {},
   "outputs": [],
   "source": [
    "PATHS = [\"/Users/everett-founder/Movies/digitlism.mp4\"]\n",
    "NUM_FRAMES = 16# VideoPrism requires 16x288x288 frames\n",
    "FRAME_SIZE = 288\n",
    "MODEL_NAME = 'videoprism_lvt_public_v1_base'"
   ]
  },
  {
   "cell_type": "code",
   "execution_count": null,
   "id": "d9375a9b",
   "metadata": {},
   "outputs": [],
   "source": [
    "df_frames = daft.read_video_frames(\n",
    "    PATHS,\n",
    "    image_height=288, \n",
    "    image_width=288,\n",
    ")"
   ]
  }
 ],
 "metadata": {
  "language_info": {
   "name": "python"
  }
 },
 "nbformat": 4,
 "nbformat_minor": 5
}
