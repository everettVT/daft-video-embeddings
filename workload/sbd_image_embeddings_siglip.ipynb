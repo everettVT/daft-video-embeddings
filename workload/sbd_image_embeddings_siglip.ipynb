{
 "cells": [
  {
   "cell_type": "markdown",
   "id": "9c5ee88e",
   "metadata": {},
   "source": [
    "# Comparing Shot Boundary Detection with SigLip2 Embeddings\n",
    "\n",
    "<a target=\"_blank\" href=\"https://colab.research.google.com/github/everettVT/daft-video-embeddings/blob/main/workload/sbd_image_embeddings_siglip.ipynb\">\n",
    "  <img src=\"https://colab.research.google.com/assets/colab-badge.svg\" alt=\"Open In Colab\"/>\n",
    "</a>"
   ]
  },
  {
   "cell_type": "code",
   "execution_count": null,
   "id": "51232d51",
   "metadata": {},
   "outputs": [],
   "source": [
    "!pip install -q \"daft[huggingface]\""
   ]
  },
  {
   "cell_type": "code",
   "execution_count": null,
   "id": "a66886c4",
   "metadata": {},
   "outputs": [],
   "source": []
  },
  {
   "cell_type": "code",
   "execution_count": null,
   "id": "8bc274ca",
   "metadata": {},
   "outputs": [],
   "source": [
    "\n",
    "T, H, W, C = 16, 288, 288, 3\n",
    "ROW_LIMIT = 2048\n",
    "HISTOGRAM_BINS = 32\n",
    "\n",
    "PATHS = [\n",
    "    \"https://www.youtube.com/watch?v=WAsmZJ2kff0\", # GPU Pipeline Optimization Explained\n",
    "    \"https://www.youtube.com/watch?v=BLcKDQRTFKY\", # Wrangle PDFs with Custom UDFs\n",
    "    \"https://www.youtube.com/watch?v=Qnw6059ddgE\", # Data and AI Processing at Scale\n",
    "    \"https://www.youtube.com/watch?v=eYXDSuNpKTk\", # Life after Apache Spark\n",
    "    \"https://www.youtube.com/watch?v=3JWrg1DitaA\", # Scaling Data Processing and ML Training with Daft + Ray\n",
    "]"
   ]
  },
  {
   "cell_type": "code",
   "execution_count": 2,
   "id": "65c545f4",
   "metadata": {},
   "outputs": [],
   "source": [
    "import daft\n",
    "from daft.functions import embed_image\n",
    "from daft import DataType as dt\n",
    "\n",
    "import numpy as np"
   ]
  },
  {
   "cell_type": "code",
   "execution_count": null,
   "id": "79448414",
   "metadata": {},
   "outputs": [],
   "source": [
    "df_frames = daft.read_video_frames(\n",
    "    PATHS,\n",
    "    image_height=H,\n",
    "    image_width=W,\n",
    ").limit(ROW_LIMIT).collect() # Materialize a few frames so we don't re-read from YT\n",
    "df_frames.show(3)"
   ]
  },
  {
   "cell_type": "markdown",
   "id": "76ba8e1f",
   "metadata": {},
   "source": [
    "### Calculate Histogram\n",
    "\n",
    "For benchmarking our results against Chi-Squared distance"
   ]
  },
  {
   "cell_type": "code",
   "execution_count": null,
   "id": "625672d9",
   "metadata": {},
   "outputs": [],
   "source": [
    "@daft.func()\n",
    "def histogram(data: daft.Image, bins: int, range: tuple[float, float]) -> dt.tensor(dt.int64(), shape=(3, HISTOGRAM_BINS)):\n",
    "    flat = np.asarray(data).reshape(-1, 3)\n",
    "    hist = np.zeros((3, bins), dtype=np.int64)\n",
    "    for i in range(3):\n",
    "        h, _ = np.histogram(flat[:, i], bins=bins, range=range)\n",
    "        hist[i] = h.astype(np.int64, copy=False)\n",
    "    return hist\n",
    "\n",
    "\n",
    "df_hist = df_frames.with_column(\"histogram\", histogram(df_frames[\"data\"], bins=HISTOGRAM_BINS))"
   ]
  },
  {
   "cell_type": "markdown",
   "id": "15688fdb",
   "metadata": {},
   "source": [
    "### Generate SigLip2 Embeddings"
   ]
  },
  {
   "cell_type": "code",
   "execution_count": null,
   "id": "adbdcdfb",
   "metadata": {},
   "outputs": [],
   "source": [
    "df_emb = df_frames.with_column(\"emb_siglip2_base_patch_16_512\", embed_image(df_frames[\"data\"], model_name=\"google/siglip2-base-patch16-512\", provider=\"transformers\"))"
   ]
  },
  {
   "cell_type": "code",
   "execution_count": null,
   "id": "922c2b26",
   "metadata": {},
   "outputs": [],
   "source": [
    "df_clips = (\n",
    "    df_emb\n",
    "    .with_column(\"clip_index\", df_emb[\"frame_index\"] // T)\n",
    "    .sort(\"frame_index\")\n",
    "    .groupby(\"path\", \"clip_index\")\n",
    "    .agg_list(\"frame_index\", \"histogram\", \"emb_siglip2_base_patch_16_512\") #  Omit image data\n",
    ")\n",
    "df_clips.show(3)\n"
   ]
  },
  {
   "cell_type": "code",
   "execution_count": null,
   "id": "ff6376d4",
   "metadata": {},
   "outputs": [],
   "source": [
    "@daft.func()\n",
    "def detect_sbd_traditional(\n",
    "    hist_list: list[np.ndarray], \n",
    "    index_list: list[int], \n",
    "    threshold: float = 0.3, \n",
    "    num_frames: int = 6\n",
    "    ) -> list[int]:\n",
    "    \n"
   ]
  },
  {
   "cell_type": "code",
   "execution_count": null,
   "id": "5e3f8d30",
   "metadata": {},
   "outputs": [],
   "source": [
    "df_sbd"
   ]
  }
 ],
 "metadata": {
  "kernelspec": {
   "display_name": ".venv",
   "language": "python",
   "name": "python3"
  },
  "language_info": {
   "codemirror_mode": {
    "name": "ipython",
    "version": 3
   },
   "file_extension": ".py",
   "mimetype": "text/x-python",
   "name": "python",
   "nbconvert_exporter": "python",
   "pygments_lexer": "ipython3",
   "version": "3.11.13"
  }
 },
 "nbformat": 4,
 "nbformat_minor": 5
}
