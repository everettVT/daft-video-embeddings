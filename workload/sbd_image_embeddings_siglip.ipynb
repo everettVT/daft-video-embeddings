{
  "cells": [
    {
      "cell_type": "markdown",
      "source": [
        "# Shot Boundary Detection with Window Functions and SigLip2"
      ],
      "metadata": {
        "id": "svYUDrbv0FCx"
      },
      "id": "svYUDrbv0FCx"
    },
    {
      "cell_type": "code",
      "execution_count": null,
      "id": "51232d51",
      "metadata": {
        "id": "51232d51"
      },
      "outputs": [],
      "source": [
        "!pip install -q \"daft[huggingface]\" transformers numpy"
      ]
    },
    {
      "cell_type": "code",
      "execution_count": null,
      "id": "8bc274ca",
      "metadata": {
        "id": "8bc274ca"
      },
      "outputs": [],
      "source": [
        "# General Parameters\n",
        "MODEL_ID = \"google/siglip2-base-patch16-512\"\n",
        "B, T, H, W, C = 2, 16, 288, 288, 3 # Batch Size, Clip Size (# frames), Height, Width, RGB\n",
        "ROW_LIMIT = 50000\n",
        "\n",
        "PATHS = [\n",
        "    \"https://www.youtube.com/watch?v=eYXDSuNpKTk\", # Life after Apache Spark\n",
        "]\n",
        "\n",
        "\n",
        "MIN_SHOT_DURATION = 1.0 # seconds\n",
        "\n",
        "\n",
        "model_col = f\"img_emb_{MODEL_ID}\""
      ]
    },
    {
      "cell_type": "code",
      "execution_count": null,
      "id": "65c545f4",
      "metadata": {
        "id": "65c545f4"
      },
      "outputs": [],
      "source": [
        "import daft\n",
        "from daft.functions import embed_image\n",
        "from daft import col, lit, Window, DataType as dt\n",
        "\n",
        "import numpy as np"
      ]
    },
    {
      "cell_type": "code",
      "execution_count": null,
      "id": "79448414",
      "metadata": {
        "id": "79448414"
      },
      "outputs": [],
      "source": [
        "df_frames = daft.read_video_frames(\n",
        "    PATHS,\n",
        "    image_height=H,\n",
        "    image_width=W,\n",
        ").limit(ROW_LIMIT).collect() # Materialize a few frames so we don't re-read from YT\n",
        "df_frames.show(3)"
      ]
    },
    {
      "cell_type": "markdown",
      "id": "15688fdb",
      "metadata": {
        "id": "15688fdb"
      },
      "source": [
        "### Generate SigLip2 Embeddings"
      ]
    },
    {
      "cell_type": "code",
      "execution_count": null,
      "id": "adbdcdfb",
      "metadata": {
        "id": "adbdcdfb"
      },
      "outputs": [],
      "source": [
        "df_emb = df_frames.with_column(\n",
        "    model_col,\n",
        "    embed_image(\n",
        "        df_frames[\"data\"],\n",
        "        model_name=MODEL_ID,\n",
        "        provider=\"transformers\",\n",
        "    )\n",
        ")"
      ]
    },
    {
      "cell_type": "code",
      "source": [
        "df_emb = df_emb.collect()"
      ],
      "metadata": {
        "id": "_7KeVWd8hqf4"
      },
      "id": "_7KeVWd8hqf4",
      "execution_count": null,
      "outputs": []
    },
    {
      "cell_type": "markdown",
      "source": [
        "### Cosine Similarity between Frames using Window Functions"
      ],
      "metadata": {
        "id": "BEx9ydOEfqpV"
      },
      "id": "BEx9ydOEfqpV"
    },
    {
      "cell_type": "code",
      "source": [],
      "metadata": {
        "id": "6HLNjso_y2aw"
      },
      "id": "6HLNjso_y2aw",
      "execution_count": null,
      "outputs": []
    },
    {
      "cell_type": "code",
      "execution_count": null,
      "id": "922c2b26",
      "metadata": {
        "id": "922c2b26"
      },
      "outputs": [],
      "source": [
        "w = Window().partition_by(\"path\").order_by(\"frame_time\")\n",
        "w_cut = w.range_between(-0.3, Window.current_row)\n",
        "w_dissolve = w.range_between(-1.0, Window.current_row)\n",
        "\n",
        "df_shots = (\n",
        "    df_emb\n",
        "    .with_column(\"cos_dist\", col(model_col).embedding.cosine_distance(col(model_col).lag(1).over(w)))\n",
        "    .with_column(\"cos_dist_cut\", col(\"cos_dist\").mean().over(w_cut))\n",
        "    .with_column(\"cos_dist_dissolve\", col(\"cos_dist\").mean().over(w_dissolve))\n",
        ")\n"
      ]
    },
    {
      "cell_type": "code",
      "execution_count": null,
      "id": "ff6376d4",
      "metadata": {
        "id": "ff6376d4"
      },
      "outputs": [],
      "source": [
        "df_shots.collect()"
      ]
    },
    {
      "cell_type": "code",
      "metadata": {
        "id": "0cfe5128"
      },
      "source": [
        "import matplotlib.pyplot as plt\n",
        "\n",
        "# Select the relevant columns and convert to pandas DataFrame for plotting\n",
        "df_plot_multiple = df_shots.select(\"frame_time\", \"cos_dist\", \"cos_dist_cut\", \"cos_dist_dissolve\").to_pandas()\n",
        "\n",
        "# Plot the data\n",
        "plt.figure(figsize=(12, 6))\n",
        "plt.plot(df_plot_multiple[\"frame_time\"], df_plot_multiple[\"cos_dist\"], label=\"Cosine Distance\", alpha=0.7)\n",
        "plt.plot(df_plot_multiple[\"frame_time\"], df_plot_multiple[\"cos_dist_cut\"], label=\"Cosine Distance (Cut Window)\", linewidth=2)\n",
        "plt.plot(df_plot_multiple[\"frame_time\"], df_plot_multiple[\"cos_dist_dissolve\"], label=\"Cosine Distance (Dissolve Window)\", linewidth=2)\n",
        "plt.xlabel(\"Frame Time (seconds)\")\n",
        "plt.ylabel(\"Cosine Distance\")\n",
        "plt.title(\"Cosine Distance and Smoothed Cosine Distances over Time\")\n",
        "plt.legend()\n",
        "plt.grid(True)\n",
        "plt.show()"
      ],
      "id": "0cfe5128",
      "execution_count": null,
      "outputs": []
    },
    {
      "cell_type": "code",
      "source": [
        "THRESHOLD = 0.1\n",
        "df_sbd = df_shots.with_column(\"is_cut_boundary\", (col(\"cos_dist\") >= THRESHOLD))"
      ],
      "metadata": {
        "id": "aTBHWc3Os7WU"
      },
      "id": "aTBHWc3Os7WU",
      "execution_count": null,
      "outputs": []
    },
    {
      "cell_type": "code",
      "execution_count": null,
      "id": "5e3f8d30",
      "metadata": {
        "id": "5e3f8d30"
      },
      "outputs": [],
      "source": [
        "df_sbd.where(df_sbd[\"is_cut_boundary\"]).select(\"data\").show()"
      ]
    },
    {
      "cell_type": "code",
      "source": [],
      "metadata": {
        "id": "zMzgveBupEKS"
      },
      "id": "zMzgveBupEKS",
      "execution_count": null,
      "outputs": []
    }
  ],
  "metadata": {
    "kernelspec": {
      "display_name": ".venv",
      "language": "python",
      "name": "python3"
    },
    "language_info": {
      "codemirror_mode": {
        "name": "ipython",
        "version": 3
      },
      "file_extension": ".py",
      "mimetype": "text/x-python",
      "name": "python",
      "nbconvert_exporter": "python",
      "pygments_lexer": "ipython3",
      "version": "3.11.13"
    },
    "colab": {
      "provenance": []
    }
  },
  "nbformat": 4,
  "nbformat_minor": 5
}