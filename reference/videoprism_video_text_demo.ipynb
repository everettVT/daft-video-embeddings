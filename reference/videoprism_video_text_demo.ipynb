{
  "cells": [
    {
      "cell_type": "markdown",
      "metadata": {
        "id": "KPPUiCpSbm53"
      },
      "source": [
        "# VideoPrism Video-Text Encoder Demo\n",
        "\n",
        "[![Paper](https://img.shields.io/badge/arXiv-2402.13217-red.svg)](https://arxiv.org/abs/2402.13217)\n",
        "[![Blog](https://img.shields.io/badge/Google_Research-Blog-green.svg)](https://research.google/blog/videoprism-a-foundational-visual-encoder-for-video-understanding/)\n",
        "[![License](https://img.shields.io/badge/License-Apache%202.0-blue.svg)](https://opensource.org/licenses/Apache-2.0)\n",
        "\n",
        "This notebook provides an example of video and text feature extraction with a pre-trained VideoPrism video-text model for zero-shot video classification/retrieval.\n",
        "\n",
        "Please run this demo on Google Colab with (faster) or without TPU."
      ]
    },
    {
      "cell_type": "markdown",
      "metadata": {
        "id": "k08qFZ9-cn9v"
      },
      "source": [
        "## Set up"
      ]
    },
    {
      "cell_type": "code",
      "execution_count": null,
      "metadata": {
        "id": "1dfyX8EyVsvL"
      },
      "outputs": [],
      "source": [
        "# @title Prepare environment\n",
        "\n",
        "import os\n",
        "import sys\n",
        "\n",
        "# Fetch VideoPrism repository if Python does not know about it and install\n",
        "# dependencies needed for this notebook.\n",
        "if not os.path.exists(\"videoprism_repo\"):\n",
        "  !git clone --quiet --branch=main --depth=1 \\\n",
        "     https://github.com/google-deepmind/videoprism.git videoprism_repo\n",
        "  os.chdir('./videoprism_repo')\n",
        "  !pip install .\n",
        "  os.chdir('..')\n",
        "\n",
        "# Append VideoPrism code to Python import path.\n",
        "if \"videoprism_repo\" not in sys.path:\n",
        "  sys.path.append(\"videoprism_repo\")\n",
        "\n",
        "# Install missing dependencies.\n",
        "!pip install mediapy\n",
        "\n",
        "\n",
        "\n",
        "# Do not let TF use the GPU or TPUs.\n",
        "tf.config.set_visible_devices([], \"GPU\")\n",
        "tf.config.set_visible_devices([], \"TPU\")\n",
        "\n",
        "print(f\"JAX version:  {jax.__version__}\")\n",
        "print(f\"JAX platform: {backend.get_backend().platform}\")\n",
        "print(f\"JAX devices:  {jax.device_count()}\")"
      ]
    },
    {
      "cell_type": "code",
      "execution_count": null,
      "metadata": {
        "id": "zByA1K0IVKAI"
      },
      "outputs": [],
      "source": [
        "# @title Load dependencies and define utilities\n",
        "\n",
        "import mediapy\n",
        "import numpy as np\n",
        "from PIL import Image\n",
        "\n",
        "\n",
        "def read_and_preprocess_video(\n",
        "    filename: str, target_num_frames: int, target_frame_size: tuple[int, int]\n",
        "):\n",
        "  \"\"\"Reads and preprocesses a video.\"\"\"\n",
        "\n",
        "  frames = mediapy.read_video(filename)\n",
        "\n",
        "  # Sample to target number of frames.\n",
        "  frame_indices = np.linspace(\n",
        "      0, len(frames), num=target_num_frames, endpoint=False, dtype=np.int32\n",
        "  )\n",
        "  frames = np.array([frames[i] for i in frame_indices])\n",
        "\n",
        "  # Resize to target size.\n",
        "  original_height, original_width = frames.shape[-3:-1]\n",
        "  target_height, target_width = target_frame_size\n",
        "  assert (\n",
        "      original_height * target_width == original_width * target_height\n",
        "  ), 'Currently does not support aspect ratio mismatch.'\n",
        "  frames = mediapy.resize_video(frames, shape=target_frame_size)\n",
        "\n",
        "  # Normalize pixel values to [0.0, 1.0].\n",
        "  frames = mediapy.to_float01(frames)\n",
        "\n",
        "  return frames\n",
        "\n",
        "\n",
        "def compute_similarity_matrix(\n",
        "    video_embeddings,\n",
        "    text_embeddings,\n",
        "    temperature: float,\n",
        "    apply_softmax: str | None = None,\n",
        ") -> np.ndarray:\n",
        "  \"\"\"Computes cosine similarity matrix.\"\"\"\n",
        "  assert apply_softmax in [None, 'over_texts', 'over_videos']\n",
        "  emb_dim = video_embeddings[0].shape[-1]\n",
        "  assert emb_dim == text_embeddings[0].shape[-1]\n",
        "\n",
        "  video_embeddings = np.array(video_embeddings).reshape(-1, emb_dim)\n",
        "  text_embeddings = np.array(text_embeddings).reshape(-1, emb_dim)\n",
        "  similarity_matrix = np.dot(video_embeddings, text_embeddings.T)\n",
        "\n",
        "  if temperature is not None:\n",
        "    similarity_matrix /= temperature\n",
        "\n",
        "  if apply_softmax == 'over_videos':\n",
        "    similarity_matrix = np.exp(similarity_matrix)\n",
        "    similarity_matrix = similarity_matrix / np.sum(\n",
        "        similarity_matrix, axis=0, keepdims=True\n",
        "    )\n",
        "  elif apply_softmax == 'over_texts':\n",
        "    similarity_matrix = np.exp(similarity_matrix)\n",
        "    similarity_matrix = similarity_matrix / np.sum(\n",
        "        similarity_matrix, axis=1, keepdims=True\n",
        "    )\n",
        "\n",
        "  return similarity_matrix"
      ]
    },
    {
      "cell_type": "code",
      "execution_count": null,
      "metadata": {
        "id": "WnYuzSgrXCL1"
      },
      "outputs": [],
      "source": [
        "# @title Load model\n",
        "\n",
        "import jax\n",
        "import jax.numpy as jnp\n",
        "from videoprism import models as vp\n",
        "\n",
        "MODEL_NAME = 'videoprism_lvt_public_v1_base'  # @param ['videoprism_lvt_public_v1_base', 'videoprism_lvt_public_v1_large'] {allow-input: false}\n",
        "NUM_FRAMES = 16\n",
        "FRAME_SIZE = 288\n",
        "\n",
        "flax_model = vp.get_model(MODEL_NAME)\n",
        "loaded_state = vp.load_pretrained_weights(MODEL_NAME)\n",
        "text_tokenizer = vp.load_text_tokenizer('c4_en')\n",
        "\n",
        "\n",
        "@jax.jit\n",
        "def forward_fn(inputs, text_token_ids, text_paddings, train=False):\n",
        "  return flax_model.apply(\n",
        "      loaded_state,\n",
        "      inputs,\n",
        "      text_token_ids,\n",
        "      text_paddings,\n",
        "      train=train,\n",
        "  )"
      ]
    },
    {
      "cell_type": "markdown",
      "metadata": {
        "id": "AliScLC0jo1s"
      },
      "source": [
        "# Example: Zero-shot Video Classification/Retrieval\n",
        "\n",
        "In this example, we extract the embedding of an input video, and the embeddings of five senetence. We measure the cosine similarites between the videos and sentences."
      ]
    },
    {
      "cell_type": "code",
      "execution_count": null,
      "metadata": {
        "id": "sESN_CjfEiQR"
      },
      "outputs": [],
      "source": [
        "# @title Specify input video\n",
        "VIDEO_FILE_PATH = 'videoprism_repo/videoprism/assets/water_bottle_drumming.mp4'  # @param {type: \"string\"}\n",
        "\n",
        "frames = read_and_preprocess_video(\n",
        "    VIDEO_FILE_PATH,\n",
        "    target_num_frames=NUM_FRAMES,\n",
        "    target_frame_size=[FRAME_SIZE, FRAME_SIZE],\n",
        ")\n",
        "frames = jnp.asarray(frames[None, ...])  # Add batch dimension."
      ]
    },
    {
      "cell_type": "code",
      "execution_count": null,
      "metadata": {
        "id": "kLzkhP8CYUYj"
      },
      "outputs": [],
      "source": [
        "# @title Specify input text queries\n",
        "TEXT_QUERY_CSV = 'playing drums,sitting,playing flute,playing at playground,concert'  # @param {type: \"string\"}\n",
        "PROMPT_TEMPLATE = 'a video of {}.'\n",
        "\n",
        "text_queries = TEXT_QUERY_CSV.split(',')\n",
        "text_queries = [PROMPT_TEMPLATE.format(t) for t in text_queries]\n",
        "text_ids, text_paddings = vp.tokenize_texts(text_tokenizer, text_queries)\n",
        "\n",
        "print('Input text queries:')\n",
        "for i, text in enumerate(text_queries):\n",
        "  print(f'({i + 1}) {text}')"
      ]
    },
    {
      "cell_type": "code",
      "execution_count": null,
      "metadata": {
        "id": "bfwT93Yz5oi_"
      },
      "outputs": [],
      "source": [
        "# @title Compute video-to-text retrieval results\n",
        "video_embeddings, text_embeddings, _ = forward_fn(\n",
        "    frames, text_ids, text_paddings)\n",
        "\n",
        "TEMPERATURE = 0.01  # @param {type: \"number\"}\n",
        "similarity_matrix = compute_similarity_matrix(\n",
        "    video_embeddings,\n",
        "    text_embeddings,\n",
        "    temperature=TEMPERATURE,\n",
        "    apply_softmax='over_texts',\n",
        ")"
      ]
    },
    {
      "cell_type": "code",
      "execution_count": null,
      "metadata": {
        "id": "lZ8woxde6t_S"
      },
      "outputs": [],
      "source": [
        "v2t_similarity_vector = similarity_matrix[0]\n",
        "top_indices = np.argsort(v2t_similarity_vector)[::-1]\n",
        "\n",
        "print(f'Query video: {os.path.basename(VIDEO_FILE_PATH)}')\n",
        "mediapy.show_video(frames[0], fps=6.0)\n",
        "\n",
        "for k, j in enumerate(top_indices):\n",
        "  print(\n",
        "      'Top-%d retrieved text: %s [Similarity = %0.4f]'\n",
        "      % (k + 1, text_queries[j], v2t_similarity_vector[j])\n",
        "  )\n",
        "print(f'\\nThis is {text_queries[top_indices[0]]}')"
      ]
    }
  ],
  "metadata": {
    "colab": {
      "provenance": []
    },
    "kernelspec": {
      "display_name": "Python 3",
      "name": "python3"
    },
    "language_info": {
      "name": "python"
    }
  },
  "nbformat": 4,
  "nbformat_minor": 0
}
